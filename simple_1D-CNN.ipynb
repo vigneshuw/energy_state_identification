{
 "cells": [
  {
   "cell_type": "code",
   "execution_count": null,
   "id": "ee284c8b",
   "metadata": {
    "ExecuteTime": {
     "end_time": "2021-07-30T07:13:46.833788Z",
     "start_time": "2021-07-30T07:13:46.816941Z"
    }
   },
   "outputs": [],
   "source": [
    "# To enable faster auto-complete\n",
    "%config Completer.use_jedi = False"
   ]
  },
  {
   "cell_type": "code",
   "execution_count": null,
   "id": "cec48530",
   "metadata": {
    "ExecuteTime": {
     "end_time": "2021-07-30T07:13:48.329512Z",
     "start_time": "2021-07-30T07:13:47.032146Z"
    }
   },
   "outputs": [],
   "source": [
    "import sys \n",
    "import os\n",
    "import tensorflow as tf\n",
    "from tensorflow import keras\n",
    "from utils import energy_model, data_augmentation\n",
    "import numpy as np\n",
    "import re\n",
    "import seaborn as sns\n",
    "from sklearn.utils import shuffle\n",
    "from sklearn.model_selection import train_test_split\n",
    "from sklearn.preprocessing import StandardScaler\n",
    "import pandas as pd\n",
    "import matplotlib.pyplot as plt\n",
    "from sklearn.metrics import plot_confusion_matrix\n"
   ]
  },
  {
   "cell_type": "code",
   "execution_count": null,
   "id": "5285a655",
   "metadata": {
    "ExecuteTime": {
     "end_time": "2021-07-30T07:13:48.813203Z",
     "start_time": "2021-07-30T07:13:48.342097Z"
    }
   },
   "outputs": [],
   "source": [
    "# Selecting the GPU to be used \n",
    "gpus = tf.config.experimental.list_physical_devices('GPU')\n",
    "print(gpus)\n",
    "if gpus:\n",
    "    # Restrict tensor flow to use GPU-1\n",
    "    try:\n",
    "        tf.config.experimental.set_visible_devices(gpus[0], 'GPU')\n",
    "        logical_gpus = tf.config.experimental.list_logical_devices('GPU')\n",
    "        print(len(gpus), \"Physical GPUs\", len(logical_gpus), \"Logical GPU\")\n",
    "    except RuntimeError as e:\n",
    "        # Set GPUs before initializing\n",
    "        print(e)"
   ]
  },
  {
   "cell_type": "code",
   "execution_count": null,
   "id": "68721323",
   "metadata": {
    "ExecuteTime": {
     "end_time": "2021-07-30T07:13:51.491960Z",
     "start_time": "2021-07-30T07:13:51.483905Z"
    }
   },
   "outputs": [],
   "source": [
    "def confusion_matrix(model, X_test, y_test, class_names):\n",
    "    # Prediction on test data set -> predicting classes\n",
    "    y_pred = model.predict_classes(X_test)\n",
    "    con_mat = tf.math.confusion_matrix(labels=y_test, predictions=y_pred).numpy()\n",
    "    # Normalizing the confusion matrix\n",
    "    con_mat_norm = np.around(con_mat.astype('float') / con_mat.sum(axis=1) [:, np.newaxis], decimals=2)\n",
    "    con_mat_df = pd.DataFrame(con_mat_norm, index=class_names, columns=class_names)\n",
    "    # Plotting using an heat map\n",
    "    figure = plt.figure(figsize=(8,8))\n",
    "    sns.set(font_scale = 2)\n",
    "    sns.heatmap(con_mat_df, annot=True, cmap=plt.cm.Blues)\n",
    "    plt.tight_layout()\n",
    "    plt.ylabel(\"True label\")\n",
    "    plt.xlabel(\"Predicted label\")"
   ]
  },
  {
   "cell_type": "code",
   "execution_count": null,
   "id": "abfa8454",
   "metadata": {
    "ExecuteTime": {
     "end_time": "2021-07-30T07:13:52.141274Z",
     "start_time": "2021-07-30T07:13:52.136274Z"
    }
   },
   "outputs": [],
   "source": [
    "def check_create_dir(*args):\n",
    "    # Get the directory name\n",
    "    temp = \"\"\n",
    "    for i in args:\n",
    "        temp = os.path.join(temp, i)\n",
    "    \n",
    "    # Check if exists else create them all\n",
    "    if os.path.isdir(temp):\n",
    "        pass\n",
    "    else:\n",
    "        os.makedirs(temp)"
   ]
  },
  {
   "cell_type": "markdown",
   "id": "55110f28",
   "metadata": {},
   "source": [
    "# Model Development\n",
    "- Simple 1D-CNN model development\n",
    "- In this the model development process is kept seperate\n",
    "    - Seperate model was build for different problem domains\n",
    "- This serves as a benchmark for the multi-output model"
   ]
  },
  {
   "cell_type": "markdown",
   "id": "1c599ab3",
   "metadata": {
    "ExecuteTime": {
     "end_time": "2021-07-08T19:23:24.394341Z",
     "start_time": "2021-07-08T19:23:24.390547Z"
    }
   },
   "source": [
    "## Axis Detection"
   ]
  },
  {
   "cell_type": "markdown",
   "id": "662d5181",
   "metadata": {},
   "source": [
    "### Loading the data"
   ]
  },
  {
   "cell_type": "code",
   "execution_count": null,
   "id": "281081c4",
   "metadata": {
    "ExecuteTime": {
     "end_time": "2021-07-26T19:43:18.865340Z",
     "start_time": "2021-07-26T19:43:18.676556Z"
    }
   },
   "outputs": [],
   "source": [
    "data_dir = os.path.join(os.getcwd(), \"model_data\", \"axis\")\n",
    "\n",
    "# Model training data\n",
    "y = []\n",
    "axis = {\"xaxis\": 0, \"yaxis\": 1, \"zaxis\": 2, \"baxis\": 3, \"caxis\": 4}\n",
    "for index, file in enumerate(os.listdir(data_dir)):\n",
    "    data = np.load(os.path.join(data_dir, file))\n",
    "    # X\n",
    "    if index == 0:\n",
    "        X = data#[:, :, 2:][:, :, np.newaxis]\n",
    "    else: \n",
    "        X = np.append(X, data, axis=0)\n",
    "    \n",
    "    # y\n",
    "    temp = [True if re.search(file[0:5] + \"*\", x) else False for x in axis.keys()]\n",
    "    class_id = [val for i, val in zip(temp, axis.values()) if i][0]\n",
    "    temp = np.repeat(class_id, data.shape[0])[:, np.newaxis]\n",
    "    if index == 0:\n",
    "        y = temp\n",
    "    else:\n",
    "        y = np.append(y, temp, axis=0)\n",
    "        \n",
    "    sys.stdout.write(f\"The file - {file}, the class_id - {class_id}\\n\")\n",
    "    \n",
    "# Shuffling the data \n",
    "X, y = shuffle(X, y, random_state=42)"
   ]
  },
  {
   "cell_type": "code",
   "execution_count": null,
   "id": "4286c787",
   "metadata": {
    "ExecuteTime": {
     "end_time": "2021-07-26T19:45:01.260644Z",
     "start_time": "2021-07-26T19:45:01.253611Z"
    }
   },
   "outputs": [],
   "source": [
    "classes = np.bincount(y[:, 0])\n",
    "for class_id, count in enumerate(classes):\n",
    "    print(\"Class={}, Count-{}, Percentage-{:2f}%\".format(class_id, count, 100 * count/classes.sum()))"
   ]
  },
  {
   "cell_type": "markdown",
   "id": "405eb77e",
   "metadata": {},
   "source": [
    "### Splitting the data"
   ]
  },
  {
   "cell_type": "code",
   "execution_count": null,
   "id": "17913578",
   "metadata": {
    "ExecuteTime": {
     "end_time": "2021-07-12T19:12:14.767195Z",
     "start_time": "2021-07-12T19:12:14.702264Z"
    }
   },
   "outputs": [],
   "source": [
    "X_train, X_test, y_train, y_test = train_test_split(X, y, test_size=0.30, random_state=42, shuffle=True)\n",
    "X_valid, X_test, y_valid, y_test = train_test_split(X_test, y_test, test_size=0.30, random_state=42, shuffle=True)"
   ]
  },
  {
   "cell_type": "markdown",
   "id": "dc1a2126",
   "metadata": {},
   "source": [
    "### Build the model"
   ]
  },
  {
   "cell_type": "code",
   "execution_count": null,
   "id": "05fc6b32",
   "metadata": {
    "ExecuteTime": {
     "end_time": "2021-07-12T19:12:15.811053Z",
     "start_time": "2021-07-12T19:12:15.501455Z"
    }
   },
   "outputs": [],
   "source": [
    "# Layers of 1D-CNN model\n",
    "layers = (\"Conv1D\", \"Conv1D\", \"BatchNormalization\", \"MaxPooling1D\", \"Conv1D\", \"Conv1D\", \"BatchNormalization\", \"MaxPooling1D\", \n",
    "          \"Flatten\", \"Dense\", \"Dropout\", \"Dense\", \"Dense\")\n",
    "counts = ((128, 3), (64, 3), (None,), (2,), (32, 2), (16, 2), (None,), (2,), (None,), (256,), (0.7,), (128,), (5,))\n",
    "act_fn = (\"relu\", \"softmax\")\n",
    "input_shape = (X_train.shape[1], 3)\n",
    "\n",
    "# Build the model\n",
    "model = energy_model.build_1DCNN_model(layers=layers, counts=counts, act_func=act_fn, input_shape=input_shape)\n",
    "model.summary()\n",
    "\n",
    "adam = keras.optimizers.Adam(learning_rate=0.0001)\n",
    "model.compile(loss=\"sparse_categorical_crossentropy\", optimizer=adam, metrics=[\"accuracy\"])"
   ]
  },
  {
   "cell_type": "code",
   "execution_count": null,
   "id": "54ad453c",
   "metadata": {
    "ExecuteTime": {
     "end_time": "2021-07-12T19:35:48.534335Z",
     "start_time": "2021-07-12T19:29:24.237142Z"
    }
   },
   "outputs": [],
   "source": [
    "early_stopping_cb = keras.callbacks.EarlyStopping(monitor=\"val_loss\", restore_best_weights=True, patience=30)\n",
    "history = model.fit(X_train, y_train, batch_size=256, epochs=500, validation_data=(X_valid, y_valid), callbacks=[early_stopping_cb])"
   ]
  },
  {
   "cell_type": "markdown",
   "id": "b83de25b",
   "metadata": {
    "ExecuteTime": {
     "end_time": "2021-07-08T03:44:37.559635Z",
     "start_time": "2021-07-08T03:34:34.168261Z"
    }
   },
   "source": [
    "### Plotting the results\n",
    "- The training history"
   ]
  },
  {
   "cell_type": "code",
   "execution_count": null,
   "id": "2398e2c3",
   "metadata": {
    "ExecuteTime": {
     "end_time": "2021-07-09T08:15:01.342884Z",
     "start_time": "2021-07-09T08:15:01.062725Z"
    }
   },
   "outputs": [],
   "source": [
    "plt.plot(history.history[\"accuracy\"])\n",
    "plt.plot(history.history[\"val_accuracy\"])\n",
    "plt.title('Model Accuracy')\n",
    "plt.xlabel(\"Epochs\")\n",
    "plt.ylabel(\"Accuracy\")\n",
    "plt.legend(['Train', 'Validation'], loc='upper left')"
   ]
  },
  {
   "cell_type": "code",
   "execution_count": null,
   "id": "e39edd93",
   "metadata": {
    "ExecuteTime": {
     "end_time": "2021-07-09T08:15:01.482195Z",
     "start_time": "2021-07-09T08:15:01.368030Z"
    }
   },
   "outputs": [],
   "source": [
    "plt.cla()\n",
    "plt.plot(history.history[\"loss\"])\n",
    "plt.plot(history.history[\"val_loss\"])\n",
    "plt.title('Model Loss')\n",
    "plt.xlabel(\"Epochs\")\n",
    "plt.ylabel(\"Loss\")\n",
    "plt.legend(['Train', 'Validation'], loc='upper left')"
   ]
  },
  {
   "cell_type": "markdown",
   "id": "c3f37bd8",
   "metadata": {},
   "source": [
    "- Confusion Matrix"
   ]
  },
  {
   "cell_type": "code",
   "execution_count": null,
   "id": "d42df876",
   "metadata": {
    "ExecuteTime": {
     "end_time": "2021-07-09T08:15:02.135618Z",
     "start_time": "2021-07-09T08:15:01.508970Z"
    }
   },
   "outputs": [],
   "source": [
    "class_names = list(axis.keys())\n",
    "confusion_matrix(model, X_test, y_test, class_names=class_names)"
   ]
  },
  {
   "cell_type": "code",
   "execution_count": null,
   "id": "9a7c9446",
   "metadata": {
    "ExecuteTime": {
     "end_time": "2021-07-09T08:15:02.665170Z",
     "start_time": "2021-07-09T08:15:02.180675Z"
    }
   },
   "outputs": [],
   "source": [
    "score = model.evaluate(X_test, y_test)\n",
    "print(f\"The testing loss is {round(score[0], 4)} and the testing accuracy is {round(score[1] * 100, 2)}%\")"
   ]
  },
  {
   "cell_type": "markdown",
   "id": "66673f70",
   "metadata": {
    "ExecuteTime": {
     "end_time": "2021-07-08T03:47:05.382758Z",
     "start_time": "2021-07-08T03:47:04.741747Z"
    }
   },
   "source": [
    "### Save Model"
   ]
  },
  {
   "cell_type": "code",
   "execution_count": null,
   "id": "08724808",
   "metadata": {
    "ExecuteTime": {
     "end_time": "2021-07-09T08:15:17.350359Z",
     "start_time": "2021-07-09T08:15:17.346296Z"
    }
   },
   "outputs": [],
   "source": [
    "overlap_rate = 0.50\n",
    "segment_seconds = 5\n",
    "window_size = segment_seconds * 17\n",
    "normalization_required = True"
   ]
  },
  {
   "cell_type": "code",
   "execution_count": null,
   "id": "c2ba022f",
   "metadata": {
    "ExecuteTime": {
     "end_time": "2021-07-09T08:15:17.635720Z",
     "start_time": "2021-07-09T08:15:17.579377Z"
    }
   },
   "outputs": [],
   "source": [
    "check_create_dir(\"model_weights\")\n",
    "dir_path = os.path.join(os.getcwd(), \"model_weights\")\n",
    "model_file_name = \"axis_detection\" + \"_ov\" + str(overlap_rate) + \"_w\" + str(window_size) + \"_n\" + str(normalization_required)\n",
    "\n",
    "# Saving the model\n",
    "model.save(os.path.join(dir_path, model_file_name), save_format=\"h5\")"
   ]
  },
  {
   "cell_type": "markdown",
   "id": "dccfadd6",
   "metadata": {},
   "source": [
    "## Feed rate prediction"
   ]
  },
  {
   "cell_type": "markdown",
   "id": "316d61f8",
   "metadata": {},
   "source": [
    "### Loading the data"
   ]
  },
  {
   "cell_type": "markdown",
   "id": "c7ca3a8c",
   "metadata": {
    "ExecuteTime": {
     "end_time": "2021-07-19T20:48:07.486724Z",
     "start_time": "2021-07-19T20:48:07.483924Z"
    }
   },
   "source": [
    "#### Load without oversampling"
   ]
  },
  {
   "cell_type": "code",
   "execution_count": null,
   "id": "e99ae5f3",
   "metadata": {
    "ExecuteTime": {
     "end_time": "2021-07-19T20:28:38.618788Z",
     "start_time": "2021-07-19T20:28:38.359113Z"
    }
   },
   "outputs": [],
   "source": [
    "data_dir = os.path.join(os.getcwd(), \"model_data\", \"feedrate\")\n",
    "\n",
    "# Model training data\n",
    "# Just load the data for x-axis\n",
    "file = \"xaxis_feeddict_ov0.5_w85_nTrue.npy\"\n",
    "data = np.load(os.path.join(data_dir, file), allow_pickle=True)[()]\n",
    "\n",
    "# Go through each feed rate in the dictionary\n",
    "for index, (feed_rate, segmented_points) in enumerate(data.items()):\n",
    "    \n",
    "    temp = np.repeat(feed_rate, segmented_points.shape[0])[:, np.newaxis]\n",
    "    if index  == 0:\n",
    "        y = temp\n",
    "        X = segmented_points\n",
    "    else:\n",
    "        y = np.append(y, temp, axis=0)\n",
    "        X = np.append(X, segmented_points, axis=0)\n",
    "        \n",
    "# Shuffling the data \n",
    "X, y = shuffle(X, y, random_state=42)"
   ]
  },
  {
   "cell_type": "markdown",
   "id": "e68da1a8",
   "metadata": {},
   "source": [
    "#### Load with oversampling"
   ]
  },
  {
   "cell_type": "code",
   "execution_count": null,
   "id": "d93bf5c7",
   "metadata": {
    "ExecuteTime": {
     "end_time": "2021-07-30T07:14:04.254692Z",
     "start_time": "2021-07-30T07:14:01.762351Z"
    }
   },
   "outputs": [],
   "source": [
    "data_dir = os.path.join(os.getcwd(), \"model_data\", \"feedrate\")\n",
    "\n",
    "# Model training data\n",
    "# Just load the data for x-axis\n",
    "file = \"xaxis_feeddict_ov0.5_w85_nTrue.npy\"\n",
    "data = np.load(os.path.join(data_dir, file), allow_pickle=True)[()]\n",
    "\n",
    "# Augment the data \n",
    "data_ov = data_augmentation.naive_resampler(data, 1)\n",
    "\n",
    "# Ensure the count for all classes\n",
    "for key, value in data_ov.items():\n",
    "    sys.stdout.write(f\"The class {key} has a shape of {value.shape[0]}\\n\")\n",
    "    \n",
    "# Go through each feed rate in the dictionary\n",
    "for index, (feed_rate, segmented_points) in enumerate(data_ov.items()):\n",
    "    \n",
    "    temp = np.repeat(feed_rate, segmented_points.shape[0])[:, np.newaxis]\n",
    "    if index  == 0:\n",
    "        y = temp\n",
    "        X = segmented_points\n",
    "    else:\n",
    "        y = np.append(y, temp, axis=0)\n",
    "        X = np.append(X, segmented_points, axis=0)\n",
    "        \n",
    "# Shuffling the data \n",
    "X, y = shuffle(X, y, random_state=42)"
   ]
  },
  {
   "cell_type": "markdown",
   "id": "e75576b8",
   "metadata": {
    "ExecuteTime": {
     "end_time": "2021-07-08T19:44:33.682203Z",
     "start_time": "2021-07-08T19:44:33.677096Z"
    }
   },
   "source": [
    "### Splitting the data"
   ]
  },
  {
   "cell_type": "code",
   "execution_count": null,
   "id": "75dbdad2",
   "metadata": {
    "ExecuteTime": {
     "end_time": "2021-07-30T07:14:05.262734Z",
     "start_time": "2021-07-30T07:14:05.095038Z"
    }
   },
   "outputs": [],
   "source": [
    "X_train, X_test, y_train, y_test = train_test_split(X, y, test_size=0.30, random_state=42, shuffle=True)\n",
    "X_valid, X_test, y_valid, y_test = train_test_split(X_test, y_test, test_size=0.30, random_state=42, shuffle=True)"
   ]
  },
  {
   "cell_type": "markdown",
   "id": "5818c9e9",
   "metadata": {},
   "source": [
    "### Build the model"
   ]
  },
  {
   "cell_type": "code",
   "execution_count": null,
   "id": "46aaeb1e",
   "metadata": {
    "ExecuteTime": {
     "end_time": "2021-07-30T07:14:07.876886Z",
     "start_time": "2021-07-30T07:14:07.520492Z"
    }
   },
   "outputs": [],
   "source": [
    "# Layers of 1D-CNN model\n",
    "layers = (\"Conv1D\", \"Conv1D\", \"BatchNormalization\", \"MaxPooling1D\",\n",
    "          \"Conv1D\", \"Conv1D\", \"BatchNormalization\", \"MaxPooling1D\", \"Conv1D\", \"Conv1D\", \"BatchNormalization\", \"MaxPooling1D\", \n",
    "          \"Flatten\", \"Dense\", \"Dropout\", \"Dense\", \"Dense\")\n",
    "counts = ((1024, 3), (512, 3), (None,), (2,), (512, 3), (256, 3), (None,), (2,), (128, 2), (64, 2), (None,), (2,), (None,), (512,), (0.7,), (256,), (1,))\n",
    "act_fn = (\"elu\", None)\n",
    "input_shape = (X_train.shape[1], 3)\n",
    "\n",
    "# Build the model\n",
    "model = energy_model.build_1DCNN_model(layers=layers, counts=counts, act_func=act_fn, input_shape=input_shape)\n",
    "model.summary()\n",
    "\n",
    "adam = keras.optimizers.Adam(learning_rate=0.0001)\n",
    "model.compile(loss=\"mean_squared_error\", optimizer=adam)"
   ]
  },
  {
   "cell_type": "code",
   "execution_count": null,
   "id": "5c78ecbc",
   "metadata": {
    "ExecuteTime": {
     "end_time": "2021-07-30T07:53:24.412141Z",
     "start_time": "2021-07-30T07:16:43.267674Z"
    }
   },
   "outputs": [],
   "source": [
    "early_stopping_cb = keras.callbacks.EarlyStopping(monitor=\"val_loss\", restore_best_weights=True, patience=30)\n",
    "history = model.fit(X_train, y_train, batch_size=256, epochs=500, validation_data=(X_valid, y_valid), callbacks=[early_stopping_cb])"
   ]
  },
  {
   "cell_type": "markdown",
   "id": "38ce68f2",
   "metadata": {
    "ExecuteTime": {
     "end_time": "2021-07-08T19:40:01.852672Z",
     "start_time": "2021-07-08T19:40:01.847163Z"
    }
   },
   "source": [
    "### Plotting the results"
   ]
  },
  {
   "cell_type": "code",
   "execution_count": null,
   "id": "977460de",
   "metadata": {
    "ExecuteTime": {
     "end_time": "2021-07-30T23:34:44.249533Z",
     "start_time": "2021-07-30T23:34:44.074810Z"
    }
   },
   "outputs": [],
   "source": [
    "plt.plot(history.history[\"loss\"])\n",
    "plt.plot(history.history[\"val_loss\"])\n",
    "plt.title('Model Loss')\n",
    "plt.xlabel(\"Epochs\")\n",
    "plt.ylabel(\"Loss\")\n",
    "plt.legend(['Train', 'Validation'], loc='upper left')"
   ]
  },
  {
   "cell_type": "code",
   "execution_count": null,
   "id": "c7bc2f80",
   "metadata": {
    "ExecuteTime": {
     "end_time": "2021-07-30T23:34:49.279713Z",
     "start_time": "2021-07-30T23:34:46.974937Z"
    }
   },
   "outputs": [],
   "source": [
    "model.evaluate(X_test, y_test)"
   ]
  },
  {
   "cell_type": "markdown",
   "id": "923bca66",
   "metadata": {},
   "source": [
    "- Plotting a bar chart of the feed rates"
   ]
  },
  {
   "cell_type": "code",
   "execution_count": null,
   "id": "657aeb42",
   "metadata": {
    "ExecuteTime": {
     "end_time": "2021-07-30T23:40:01.275684Z",
     "start_time": "2021-07-30T23:39:56.808854Z"
    }
   },
   "outputs": [],
   "source": [
    "feed_rates = np.unique(y_test)\n",
    "labels = []\n",
    "actual_feed = []\n",
    "predicted_feed = []\n",
    "\n",
    "for feed_rate in feed_rates:\n",
    "    indices = np.argwhere(y_test==feed_rate)[0:, 0]\n",
    "    data = X_test[indices]\n",
    "    # Predict and append\n",
    "    predicted_avg = model.predict(data).mean()\n",
    "    # Append the data to a list\n",
    "    labels.append(str(round(feed_rate)))\n",
    "    actual_feed.append(feed_rate)\n",
    "    predicted_feed.append(predicted_avg)\n",
    "    \n",
    "# Plotting the bar chart\n",
    "x = np.arange(len(labels)) # the label locations\n",
    "width = 0.35 # the width of the bars \n",
    "\n",
    "fig = plt.figure(figsize=(18, 8))\n",
    "ax = fig.add_axes([0, 0, 1, 1])\n",
    "rects1 = ax.bar(x - width/2, actual_feed, width, label=\"Actual\")\n",
    "rects2 = ax.bar(x + width/2, predicted_feed, width, label=\"Predicted\")\n",
    "\n",
    "# Add some text for labels, title and custom x-axis tick labels, etc.\n",
    "ax.set_ylabel('Feed Rates')\n",
    "ax.set_title('Actual feed rate vs Predicted feed rate')\n",
    "ax.set_xticks(x)\n",
    "ax.set_xticklabels(labels)\n",
    "ax.legend()"
   ]
  },
  {
   "cell_type": "markdown",
   "id": "1ad73d4e",
   "metadata": {},
   "source": [
    "### Save Model"
   ]
  },
  {
   "cell_type": "code",
   "execution_count": null,
   "id": "6dc84887",
   "metadata": {
    "ExecuteTime": {
     "end_time": "2021-07-30T23:54:06.632649Z",
     "start_time": "2021-07-30T23:54:06.628206Z"
    }
   },
   "outputs": [],
   "source": [
    "overlap_rate = 0.50\n",
    "segment_seconds = 5\n",
    "window_size = segment_seconds * 17\n",
    "normalization_required = True"
   ]
  },
  {
   "cell_type": "code",
   "execution_count": null,
   "id": "f116d528",
   "metadata": {
    "ExecuteTime": {
     "end_time": "2021-07-30T23:59:15.810285Z",
     "start_time": "2021-07-30T23:59:15.687363Z"
    }
   },
   "outputs": [],
   "source": [
    "save_path = os.path.join(os.getcwd(), \"model_weights\")\n",
    "check_create_dir(save_path, \"feed_prediction\")\n",
    "dir_path = os.path.join(save_path, \"feed_prediction\")\n",
    "model_file_name = \"feed_prediction\" + \"_ov\" + str(overlap_rate) + \"_w\" + str(window_size) + \"_n\" + str(normalization_required)\n",
    "\n",
    "# Saving the model\n",
    "model.save(os.path.join(dir_path, model_file_name), save_format=\"h5\")"
   ]
  },
  {
   "cell_type": "code",
   "execution_count": null,
   "id": "84f9b955",
   "metadata": {},
   "outputs": [],
   "source": []
  }
 ],
 "metadata": {
  "kernelspec": {
   "display_name": "Python 3",
   "language": "python",
   "name": "python3"
  },
  "language_info": {
   "codemirror_mode": {
    "name": "ipython",
    "version": 3
   },
   "file_extension": ".py",
   "mimetype": "text/x-python",
   "name": "python",
   "nbconvert_exporter": "python",
   "pygments_lexer": "ipython3",
   "version": "3.8.8"
  },
  "toc": {
   "base_numbering": 1,
   "nav_menu": {},
   "number_sections": true,
   "sideBar": true,
   "skip_h1_title": false,
   "title_cell": "Table of Contents",
   "title_sidebar": "Contents",
   "toc_cell": false,
   "toc_position": {
    "height": "calc(100% - 180px)",
    "left": "10px",
    "top": "150px",
    "width": "384px"
   },
   "toc_section_display": true,
   "toc_window_display": true
  },
  "varInspector": {
   "cols": {
    "lenName": 16,
    "lenType": 16,
    "lenVar": 40
   },
   "kernels_config": {
    "python": {
     "delete_cmd_postfix": "",
     "delete_cmd_prefix": "del ",
     "library": "var_list.py",
     "varRefreshCmd": "print(var_dic_list())"
    },
    "r": {
     "delete_cmd_postfix": ") ",
     "delete_cmd_prefix": "rm(",
     "library": "var_list.r",
     "varRefreshCmd": "cat(var_dic_list()) "
    }
   },
   "types_to_exclude": [
    "module",
    "function",
    "builtin_function_or_method",
    "instance",
    "_Feature"
   ],
   "window_display": false
  }
 },
 "nbformat": 4,
 "nbformat_minor": 5
}
