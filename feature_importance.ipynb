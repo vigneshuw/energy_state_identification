{
 "cells": [
  {
   "cell_type": "code",
   "execution_count": 1,
   "id": "01b7549c",
   "metadata": {
    "ExecuteTime": {
     "end_time": "2021-07-30T07:43:35.306373Z",
     "start_time": "2021-07-30T07:43:35.290743Z"
    }
   },
   "outputs": [],
   "source": [
    "# To enable faster auto-complete\n",
    "%config Completer.use_jedi = False"
   ]
  },
  {
   "cell_type": "code",
   "execution_count": 2,
   "id": "52ed08d8",
   "metadata": {
    "ExecuteTime": {
     "end_time": "2021-07-30T07:43:36.835514Z",
     "start_time": "2021-07-30T07:43:35.509264Z"
    }
   },
   "outputs": [],
   "source": [
    "import os\n",
    "import sys\n",
    "import tensorflow as tf \n",
    "import re\n",
    "import numpy as np\n",
    "import eli5\n",
    "import copy\n",
    "import pandas as pd\n",
    "import matplotlib.pyplot as plt\n",
    "import matplotlib\n",
    "from eli5.sklearn import PermutationImportance\n",
    "from tensorflow import keras\n",
    "from eli5.permutation_importance import get_score_importances\n",
    "from sklearn.utils import shuffle"
   ]
  },
  {
   "cell_type": "code",
   "execution_count": 3,
   "id": "2083b69a",
   "metadata": {
    "ExecuteTime": {
     "end_time": "2021-07-30T07:43:36.966868Z",
     "start_time": "2021-07-30T07:43:36.884031Z"
    }
   },
   "outputs": [
    {
     "name": "stdout",
     "output_type": "stream",
     "text": [
      "[PhysicalDevice(name='/physical_device:GPU:0', device_type='GPU'), PhysicalDevice(name='/physical_device:GPU:1', device_type='GPU'), PhysicalDevice(name='/physical_device:GPU:2', device_type='GPU'), PhysicalDevice(name='/physical_device:GPU:3', device_type='GPU')]\n",
      "4 Physical GPUs 0 Logical GPU\n"
     ]
    }
   ],
   "source": [
    "# Selecting the GPU to be used \n",
    "gpus = tf.config.experimental.list_physical_devices('GPU')\n",
    "print(gpus)\n",
    "if gpus:\n",
    "    # Restrict tensor flow to use GPU-1\n",
    "    try:\n",
    "        tf.config.experimental.set_visible_devices([], 'GPU')\n",
    "        logical_gpus = tf.config.experimental.list_logical_devices('GPU')\n",
    "        print(len(gpus), \"Physical GPUs\", len(logical_gpus), \"Logical GPU\")\n",
    "    except RuntimeError as e:\n",
    "        # Set GPUs before initializing\n",
    "        print(e)"
   ]
  },
  {
   "cell_type": "markdown",
   "id": "a2ad0526",
   "metadata": {},
   "source": [
    "**Note**\n",
    "- Some cells are converted to raw notebook and some are code cells\n",
    "- The raw cells corresponds to particular type of model, so if you need to use those, convert them back to code cell from the raw cell\n",
    "- Make sure the correct sets of cells are enabled before running the notebook"
   ]
  },
  {
   "cell_type": "markdown",
   "id": "aaf0a8a3",
   "metadata": {},
   "source": [
    "# Loading the data"
   ]
  },
  {
   "cell_type": "markdown",
   "id": "aa88b56e",
   "metadata": {
    "ExecuteTime": {
     "end_time": "2021-07-30T07:26:08.255557Z",
     "start_time": "2021-07-30T07:26:08.250791Z"
    }
   },
   "source": [
    "## Seperate Model Data\n",
    "\n",
    "- Data for the models if they were built seperately"
   ]
  },
  {
   "cell_type": "raw",
   "id": "346f135c",
   "metadata": {
    "ExecuteTime": {
     "end_time": "2021-07-30T04:37:32.359860Z",
     "start_time": "2021-07-30T04:37:32.212370Z"
    }
   },
   "source": [
    "data_dir = os.path.join(os.getcwd(), \"model_data\", \"axis\")\n",
    "\n",
    "# Model training data\n",
    "y = []\n",
    "axis = {\"xaxis\": 0, \"yaxis\": 1, \"zaxis\": 2, \"baxis\": 3, \"caxis\": 4}\n",
    "for index, file in enumerate(os.listdir(data_dir)):\n",
    "    data = np.load(os.path.join(data_dir, file))\n",
    "    # X\n",
    "    if index == 0:\n",
    "        X = data#[:, :, 2:][:, :, np.newaxis]\n",
    "    else: \n",
    "        X = np.append(X, data, axis=0)\n",
    "    \n",
    "    # y\n",
    "    temp = [True if re.search(file[0:5] + \"*\", x) else False for x in axis.keys()]\n",
    "    class_id = [val for i, val in zip(temp, axis.values()) if i][0]\n",
    "    temp = np.repeat(class_id, data.shape[0])[:, np.newaxis]\n",
    "    if index == 0:\n",
    "        y = temp\n",
    "    else:\n",
    "        y = np.append(y, temp, axis=0)\n",
    "        \n",
    "    sys.stdout.write(f\"The file - {file}, the class_id - {class_id}\\n\")\n",
    "    \n",
    "# Shuffling the data \n",
    "X, y = shuffle(X, y, random_state=42)"
   ]
  },
  {
   "cell_type": "markdown",
   "id": "9defa63e",
   "metadata": {},
   "source": [
    "## Multi-output model Data\n",
    "\n",
    "- The model on the paper"
   ]
  },
  {
   "cell_type": "code",
   "execution_count": 4,
   "id": "9490d870",
   "metadata": {
    "ExecuteTime": {
     "end_time": "2021-07-30T07:43:38.703505Z",
     "start_time": "2021-07-30T07:43:37.848042Z"
    }
   },
   "outputs": [],
   "source": [
    "# Directory of the dataset\n",
    "data_dir = os.path.join(os.getcwd(), \"model_data\", \"multi_output_axisfr\")\n",
    "\n",
    "for index1, file in enumerate(os.listdir(data_dir)):\n",
    "    data = np.load(os.path.join(data_dir, file), allow_pickle=True)[()]\n",
    "    \n",
    "    for index2, ((axis, feed_rate), segmented_points) in enumerate(data.items()):\n",
    "        \n",
    "        temp_axis = np.repeat(axis, segmented_points.shape[0])[:, np.newaxis]\n",
    "        temp_fr = np.repeat(feed_rate, segmented_points.shape[0])[:, np.newaxis]\n",
    "    \n",
    "        # part of X and y\n",
    "        if index2 == 0:\n",
    "            # part of y for an axis and all feed rate\n",
    "            part_y_axis = temp_axis\n",
    "            part_y_fr = temp_fr\n",
    "            # part of X\n",
    "            part_X = segmented_points\n",
    "        else:\n",
    "            part_y_axis = np.append(part_y_axis, temp_axis, axis=0)\n",
    "            part_y_fr = np.append(part_y_fr, temp_fr, axis=0)\n",
    "            part_X = np.append(part_X, segmented_points, axis=0)\n",
    "            \n",
    "    if index1 == 0:\n",
    "        # y\n",
    "        y_axis = part_y_axis\n",
    "        y_fr = part_y_fr\n",
    "        # X\n",
    "        X = part_X\n",
    "    else:\n",
    "        y_axis = np.append(y_axis, part_y_axis, axis=0)\n",
    "        y_fr = np.append(y_fr, part_y_fr, axis=0)\n",
    "        X = np.append(X, part_X, axis=0)"
   ]
  },
  {
   "cell_type": "markdown",
   "id": "b8151359",
   "metadata": {},
   "source": [
    "# Loading the model\n",
    "\n",
    "- Loading the model weights"
   ]
  },
  {
   "cell_type": "markdown",
   "id": "637ec1ec",
   "metadata": {},
   "source": [
    "## Seperate Model Weights\n",
    "- If the models were developed seperately"
   ]
  },
  {
   "cell_type": "raw",
   "id": "d44dff41",
   "metadata": {
    "ExecuteTime": {
     "end_time": "2021-07-30T04:37:34.153696Z",
     "start_time": "2021-07-30T04:37:33.983670Z"
    }
   },
   "source": [
    "# Check the right model type\n",
    "is_multi_output = False\n",
    "\n",
    "model_save_name = \"axis_detection_ov0.5_w85_nTrue.h5\"\n",
    "model_dir_name = \"axis_detection\"\n",
    "model_save_fp = os.path.join(os.getcwd(), \"model_weights\", model_dir_name, model_save_name)\n",
    "\n",
    "# Load the model using keras\n",
    "model =  keras.models.load_model(model_save_fp)\n",
    "adam = keras.optimizers.Adam(learning_rate=0.0001)\n",
    "model.compile(loss=\"sparse_categorical_crossentropy\", optimizer=adam, metrics=[\"accuracy\"])\n"
   ]
  },
  {
   "cell_type": "markdown",
   "id": "af4e7e93",
   "metadata": {},
   "source": [
    "## Multi-output model Weights\n",
    "\n",
    "- The model in the paper"
   ]
  },
  {
   "cell_type": "code",
   "execution_count": 5,
   "id": "931039df",
   "metadata": {
    "ExecuteTime": {
     "end_time": "2021-07-30T07:43:41.886636Z",
     "start_time": "2021-07-30T07:43:41.538165Z"
    }
   },
   "outputs": [],
   "source": [
    "# Check the right model type\n",
    "is_multi_output = True\n",
    "\n",
    "# The folder time\n",
    "folder_time = \"2021-07-28T00:07:46.613812\"\n",
    "\n",
    "# Select the model to load\n",
    "load_file = \"multi-ouput_KFold-6_model.h5\"\n",
    "# Load the selected model \n",
    "model = keras.models.load_model(os.path.join(os.getcwd(), \"model_weights\", \"multi_output_ax-fr\", folder_time, load_file))\n",
    "# Need compilation to change the accuracy metric - tensorflow issue\n",
    "adam = keras.optimizers.Adam(learning_rate=0.0001)\n",
    "model.compile(optimizer=adam, loss={\"axis_detection\": \"sparse_categorical_crossentropy\", \"feed_rate_prediction\": \"mse\"}, \n",
    "              metrics={\"axis_detection\": \"accuracy\"}, loss_weights=[1, 20])"
   ]
  },
  {
   "cell_type": "markdown",
   "id": "debfddc0",
   "metadata": {},
   "source": [
    "# Baseline prediction\n",
    "\n",
    "-  To verify the model's performance"
   ]
  },
  {
   "cell_type": "markdown",
   "id": "a4d16fb6",
   "metadata": {},
   "source": [
    "## Seperate model prediction"
   ]
  },
  {
   "cell_type": "raw",
   "id": "69ffeab0",
   "metadata": {
    "ExecuteTime": {
     "end_time": "2021-07-30T04:37:41.276019Z",
     "start_time": "2021-07-30T04:37:35.276166Z"
    }
   },
   "source": [
    "score = model.evaluate(X, y)\n",
    "sys.stdout.write(\"Baseline score: {}\\n\".format(score))"
   ]
  },
  {
   "cell_type": "markdown",
   "id": "18d3a734",
   "metadata": {},
   "source": [
    "## Multi-output model prediction"
   ]
  },
  {
   "cell_type": "code",
   "execution_count": 6,
   "id": "b2c161b7",
   "metadata": {
    "ExecuteTime": {
     "end_time": "2021-07-30T07:44:03.325951Z",
     "start_time": "2021-07-30T07:43:43.931823Z"
    }
   },
   "outputs": [
    {
     "name": "stdout",
     "output_type": "stream",
     "text": [
      "1521/1521 [==============================] - 18s 12ms/step - loss: 8100.0874 - axis_detection_loss: 0.1679 - feed_rate_prediction_loss: 399.0941 - axis_detection_accuracy: 0.9481\n",
      "Baseline score: [8100.08740234375, 0.16791518032550812, 399.0941162109375, 0.9480511546134949]\n"
     ]
    }
   ],
   "source": [
    "score = model.evaluate(X, {\"axis_detection\": y_axis, \"feed_rate_prediction\": y_fr})\n",
    "sys.stdout.write(\"Baseline score: {}\\n\".format(score))"
   ]
  },
  {
   "cell_type": "markdown",
   "id": "394f546d",
   "metadata": {},
   "source": [
    "# Permutation Importance\n",
    "\n",
    "- Randomly permute the data. One column at a time\n",
    "- Followed by making a prediction\n",
    "- Determine the impact on the model's performance for each column that is permuted."
   ]
  },
  {
   "cell_type": "code",
   "execution_count": 7,
   "id": "57d65f8e",
   "metadata": {
    "ExecuteTime": {
     "end_time": "2021-07-30T07:44:11.846730Z",
     "start_time": "2021-07-30T07:44:11.842290Z"
    }
   },
   "outputs": [
    {
     "name": "stdout",
     "output_type": "stream",
     "text": [
      "X: (48644, 85, 3)\n"
     ]
    }
   ],
   "source": [
    "# Know the data\n",
    "print(\"X: {}\".format(X.shape))\n",
    "print(\"y: {}\".format(y.shape))"
   ]
  },
  {
   "cell_type": "code",
   "execution_count": 8,
   "id": "5204413c",
   "metadata": {
    "ExecuteTime": {
     "end_time": "2021-07-30T07:44:14.514897Z",
     "start_time": "2021-07-30T07:44:14.511303Z"
    }
   },
   "outputs": [],
   "source": [
    "# Dictionary of important features\n",
    "feature_importance = {}"
   ]
  },
  {
   "cell_type": "code",
   "execution_count": 9,
   "id": "ab1c72d1",
   "metadata": {
    "ExecuteTime": {
     "end_time": "2021-07-30T07:54:57.870776Z",
     "start_time": "2021-07-30T07:45:34.831930Z"
    }
   },
   "outputs": [
    {
     "name": "stdout",
     "output_type": "stream",
     "text": [
      "Getting a value of 0.0 => arrays are similar\n",
      "0 - 0.0\n",
      "1 - 0.0\n",
      "2 - 0.0\n",
      "==0==\n",
      "0 - 1.4097167877480388e-10 || 0 - 0.0 || 0 - 0.0 || \n",
      "==1==\n",
      "1 - 0.0 || 1 - 6.775735528208315e-11 || 1 - 0.0 || \n",
      "==2==\n",
      "2 - 0.0 || 2 - 0.0 || 2 - 2.9115199140505865e-10 || \n",
      "1521/1521 [==============================] - 18s 12ms/step - loss: 6118240.5000 - axis_detection_loss: 4.5056 - feed_rate_prediction_loss: 305905.7812 - axis_detection_accuracy: 0.2489\n",
      "Feature changed - 0; Score - [6118240.5, 4.505624771118164, 305905.78125, 0.24893100559711456]\n",
      "1521/1521 [==============================] - 18s 12ms/step - loss: 3932902.2500 - axis_detection_loss: 3.6286 - feed_rate_prediction_loss: 196638.9375 - axis_detection_accuracy: 0.3238\n",
      "Feature changed - 1; Score - [3932902.25, 3.6285572052001953, 196638.9375, 0.3238426148891449]\n",
      "1521/1521 [==============================] - 18s 12ms/step - loss: 2783420.0000 - axis_detection_loss: 3.2365 - feed_rate_prediction_loss: 139164.9375 - axis_detection_accuracy: 0.4175\n",
      "Feature changed - 2; Score - [2783420.0, 3.2364749908447266, 139164.9375, 0.41750267148017883]\n",
      "Getting a value of 0.0 => arrays are similar\n",
      "0 - 0.0\n",
      "1 - 0.0\n",
      "2 - 0.0\n",
      "==0==\n",
      "0 - -4.89421836391557e-11 || 0 - 0.0 || 0 - 0.0 || \n",
      "==1==\n",
      "1 - 0.0 || 1 - -2.319211489520967e-11 || 1 - 0.0 || \n",
      "==2==\n",
      "2 - 0.0 || 2 - 0.0 || 2 - 1.5518253349000588e-11 || \n",
      "1521/1521 [==============================] - 18s 12ms/step - loss: 6118056.5000 - axis_detection_loss: 4.5417 - feed_rate_prediction_loss: 305896.3125 - axis_detection_accuracy: 0.2448\n",
      "Feature changed - 0; Score - [6118056.5, 4.541667938232422, 305896.3125, 0.24477839469909668]\n",
      "1521/1521 [==============================] - 18s 12ms/step - loss: 3930895.0000 - axis_detection_loss: 3.6321 - feed_rate_prediction_loss: 196538.6719 - axis_detection_accuracy: 0.3235\n",
      "Feature changed - 1; Score - [3930895.0, 3.632092237472534, 196538.671875, 0.3235342502593994]\n",
      "1521/1521 [==============================] - 18s 12ms/step - loss: 2738963.5000 - axis_detection_loss: 3.2529 - feed_rate_prediction_loss: 136942.0938 - axis_detection_accuracy: 0.4165\n",
      "Feature changed - 2; Score - [2738963.5, 3.2529473304748535, 136942.09375, 0.4164747893810272]\n",
      "Getting a value of 0.0 => arrays are similar\n",
      "0 - 0.0\n",
      "1 - 0.0\n",
      "2 - 0.0\n",
      "==0==\n",
      "0 - 2.3533175408374518e-11 || 0 - 0.0 || 0 - 0.0 || \n",
      "==1==\n",
      "1 - 0.0 || 1 - 1.9554136088117957e-11 || 1 - 0.0 || \n",
      "==2==\n",
      "2 - 0.0 || 2 - 0.0 || 2 - -5.3375970310298726e-11 || \n",
      "1521/1521 [==============================] - 18s 12ms/step - loss: 6082468.0000 - axis_detection_loss: 4.5140 - feed_rate_prediction_loss: 304117.4062 - axis_detection_accuracy: 0.2456\n",
      "Feature changed - 0; Score - [6082468.0, 4.51395845413208, 304117.40625, 0.24560068547725677]\n",
      "1521/1521 [==============================] - 18s 12ms/step - loss: 3963174.5000 - axis_detection_loss: 3.6302 - feed_rate_prediction_loss: 198152.5938 - axis_detection_accuracy: 0.3257\n",
      "Feature changed - 1; Score - [3963174.5, 3.630181074142456, 198152.59375, 0.3256928026676178]\n",
      "1521/1521 [==============================] - 18s 12ms/step - loss: 2778437.2500 - axis_detection_loss: 3.2569 - feed_rate_prediction_loss: 138915.9375 - axis_detection_accuracy: 0.4170\n",
      "Feature changed - 2; Score - [2778437.25, 3.256948709487915, 138915.9375, 0.4169681668281555]\n",
      "Getting a value of 0.0 => arrays are similar\n",
      "0 - 0.0\n",
      "1 - 0.0\n",
      "2 - 0.0\n",
      "==0==\n",
      "0 - -1.5496226524192025e-10 || 0 - 0.0 || 0 - 0.0 || \n",
      "==1==\n",
      "1 - 0.0 || 1 - 3.2741809263825417e-11 || 1 - 0.0 || \n",
      "==2==\n",
      "2 - 0.0 || 2 - 0.0 || 2 - 1.4699708117404953e-10 || \n",
      "1521/1521 [==============================] - 18s 12ms/step - loss: 6065800.0000 - axis_detection_loss: 4.5212 - feed_rate_prediction_loss: 303283.4062 - axis_detection_accuracy: 0.2474\n",
      "Feature changed - 0; Score - [6065800.0, 4.521230697631836, 303283.40625, 0.24743030965328217]\n",
      "1521/1521 [==============================] - 18s 12ms/step - loss: 3928265.0000 - axis_detection_loss: 3.6369 - feed_rate_prediction_loss: 196407.0625 - axis_detection_accuracy: 0.3216\n",
      "Feature changed - 1; Score - [3928265.0, 3.636895179748535, 196407.0625, 0.32162240147590637]\n",
      "1521/1521 [==============================] - 18s 12ms/step - loss: 2705059.7500 - axis_detection_loss: 3.2373 - feed_rate_prediction_loss: 135247.0625 - axis_detection_accuracy: 0.4190\n",
      "Feature changed - 2; Score - [2705059.75, 3.237299919128418, 135247.0625, 0.4189622700214386]\n",
      "Getting a value of 0.0 => arrays are similar\n",
      "0 - 0.0\n",
      "1 - 0.0\n",
      "2 - 0.0\n",
      "==0==\n",
      "0 - -3.6834535421803594e-11 || 0 - 0.0 || 0 - 0.0 || \n",
      "==1==\n",
      "1 - 0.0 || 1 - 3.228706191293895e-11 || 1 - 0.0 || \n",
      "==2==\n",
      "2 - 0.0 || 2 - 0.0 || 2 - 2.2441781766247004e-10 || \n",
      "1521/1521 [==============================] - 18s 12ms/step - loss: 6086286.0000 - axis_detection_loss: 4.5301 - feed_rate_prediction_loss: 304308.0625 - axis_detection_accuracy: 0.2498\n",
      "Feature changed - 0; Score - [6086286.0, 4.530095100402832, 304308.0625, 0.24979442358016968]\n",
      "1521/1521 [==============================] - 18s 12ms/step - loss: 3940896.2500 - axis_detection_loss: 3.6255 - feed_rate_prediction_loss: 197038.9375 - axis_detection_accuracy: 0.3222\n",
      "Feature changed - 1; Score - [3940896.25, 3.6254661083221436, 197038.9375, 0.32223913073539734]\n",
      "1521/1521 [==============================] - 18s 12ms/step - loss: 2793616.2500 - axis_detection_loss: 3.2517 - feed_rate_prediction_loss: 139674.6562 - axis_detection_accuracy: 0.4156\n",
      "Feature changed - 2; Score - [2793616.25, 3.2517266273498535, 139674.65625, 0.4156113862991333]\n",
      "Getting a value of 0.0 => arrays are similar\n",
      "0 - 0.0\n",
      "1 - 0.0\n",
      "2 - 0.0\n",
      "==0==\n",
      "0 - 8.247980076703243e-11 || 0 - 0.0 || 0 - 0.0 || \n",
      "==1==\n",
      "1 - 0.0 || 1 - -9.549694368615746e-12 || 1 - 0.0 || \n",
      "==2==\n",
      "2 - 0.0 || 2 - 0.0 || 2 - -1.1107204045401886e-10 || \n",
      "1521/1521 [==============================] - 18s 12ms/step - loss: 6112950.5000 - axis_detection_loss: 4.5040 - feed_rate_prediction_loss: 305641.2500 - axis_detection_accuracy: 0.2477\n",
      "Feature changed - 0; Score - [6112950.5, 4.503977298736572, 305641.25, 0.24773867428302765]\n",
      "1521/1521 [==============================] - 18s 12ms/step - loss: 3942031.7500 - axis_detection_loss: 3.6306 - feed_rate_prediction_loss: 197095.4062 - axis_detection_accuracy: 0.3235\n",
      "Feature changed - 1; Score - [3942031.75, 3.6305508613586426, 197095.40625, 0.3234725892543793]\n",
      "1521/1521 [==============================] - 18s 12ms/step - loss: 2769380.7500 - axis_detection_loss: 3.2388 - feed_rate_prediction_loss: 138462.9375 - axis_detection_accuracy: 0.4174\n",
      "Feature changed - 2; Score - [2769380.75, 3.2388429641723633, 138462.9375, 0.41735875606536865]\n",
      "Getting a value of 0.0 => arrays are similar\n",
      "0 - 0.0\n",
      "1 - 0.0\n",
      "2 - 0.0\n",
      "==0==\n",
      "0 - 1.1584688763832673e-10 || 0 - 0.0 || 0 - 0.0 || \n",
      "==1==\n",
      "1 - 0.0 || 1 - 6.59383658785373e-11 || 1 - 0.0 || \n",
      "==2==\n",
      "2 - 0.0 || 2 - 0.0 || 2 - 1.0118128557223827e-11 || \n",
      "1521/1521 [==============================] - 18s 12ms/step - loss: 6069444.0000 - axis_detection_loss: 4.5193 - feed_rate_prediction_loss: 303465.8125 - axis_detection_accuracy: 0.2472\n",
      "Feature changed - 0; Score - [6069444.0, 4.519279479980469, 303465.8125, 0.24718362092971802]\n",
      "1521/1521 [==============================] - 18s 12ms/step - loss: 3936238.2500 - axis_detection_loss: 3.6326 - feed_rate_prediction_loss: 196805.8438 - axis_detection_accuracy: 0.3215\n",
      "Feature changed - 1; Score - [3936238.25, 3.6326088905334473, 196805.84375, 0.32145795226097107]\n",
      "1521/1521 [==============================] - 18s 12ms/step - loss: 2802940.2500 - axis_detection_loss: 3.2347 - feed_rate_prediction_loss: 140140.8594 - axis_detection_accuracy: 0.4182\n",
      "Feature changed - 2; Score - [2802940.25, 3.234680414199829, 140140.859375, 0.4181605279445648]\n",
      "Getting a value of 0.0 => arrays are similar\n",
      "0 - 0.0\n",
      "1 - 0.0\n",
      "2 - 0.0\n",
      "==0==\n",
      "0 - -1.2539658200694248e-10 || 0 - 0.0 || 0 - 0.0 || \n",
      "==1==\n",
      "1 - 0.0 || 1 - 1.1823431123048067e-11 || 1 - 0.0 || \n",
      "==2==\n",
      "2 - 0.0 || 2 - 0.0 || 2 - 8.503775461576879e-11 || \n",
      "1521/1521 [==============================] - 18s 12ms/step - loss: 6072812.5000 - axis_detection_loss: 4.5023 - feed_rate_prediction_loss: 303634.7500 - axis_detection_accuracy: 0.2488\n",
      "Feature changed - 0; Score - [6072812.5, 4.502251148223877, 303634.75, 0.24876654148101807]\n",
      "1521/1521 [==============================] - 18s 12ms/step - loss: 3962932.0000 - axis_detection_loss: 3.6464 - feed_rate_prediction_loss: 198140.2344 - axis_detection_accuracy: 0.3192\n",
      "Feature changed - 1; Score - [3962932.0, 3.6464459896087646, 198140.234375, 0.3191554844379425]\n",
      "1521/1521 [==============================] - 18s 12ms/step - loss: 2741432.7500 - axis_detection_loss: 3.2413 - feed_rate_prediction_loss: 137065.6094 - axis_detection_accuracy: 0.4174\n",
      "Feature changed - 2; Score - [2741432.75, 3.241311550140381, 137065.609375, 0.4174410104751587]\n",
      "Getting a value of 0.0 => arrays are similar\n",
      "0 - 0.0\n",
      "1 - 0.0\n",
      "2 - 0.0\n",
      "==0==\n",
      "0 - 1.2641976354643703e-10 || 0 - 0.0 || 0 - 0.0 || \n",
      "==1==\n",
      "1 - 0.0 || 1 - 6.912159733474255e-11 || 1 - 0.0 || \n",
      "==2==\n",
      "2 - 0.0 || 2 - 0.0 || 2 - -2.0804691303055733e-11 || \n",
      "1521/1521 [==============================] - 18s 12ms/step - loss: 6111475.0000 - axis_detection_loss: 4.5493 - feed_rate_prediction_loss: 305567.5312 - axis_detection_accuracy: 0.2483\n",
      "Feature changed - 0; Score - [6111475.0, 4.54932975769043, 305567.53125, 0.24827316403388977]\n",
      "1521/1521 [==============================] - 18s 12ms/step - loss: 3920518.7500 - axis_detection_loss: 3.6455 - feed_rate_prediction_loss: 196020.0625 - axis_detection_accuracy: 0.3211\n",
      "Feature changed - 1; Score - [3920518.75, 3.645458221435547, 196020.0625, 0.32110846042633057]\n",
      "1521/1521 [==============================] - 18s 12ms/step - loss: 2794034.2500 - axis_detection_loss: 3.2511 - feed_rate_prediction_loss: 139695.6094 - axis_detection_accuracy: 0.4176\n",
      "Feature changed - 2; Score - [2794034.25, 3.2511050701141357, 139695.609375, 0.417605459690094]\n",
      "Getting a value of 0.0 => arrays are similar\n",
      "0 - 0.0\n",
      "1 - 0.0\n",
      "2 - 0.0\n",
      "==0==\n",
      "0 - 6.298250809777528e-11 || 0 - 0.0 || 0 - 0.0 || \n",
      "==1==\n",
      "1 - 0.0 || 1 - 6.639311322942376e-11 || 1 - 0.0 || \n",
      "==2==\n",
      "2 - 0.0 || 2 - 0.0 || 2 - -4.5702108764089644e-11 || \n",
      "1521/1521 [==============================] - 18s 12ms/step - loss: 6105602.0000 - axis_detection_loss: 4.5229 - feed_rate_prediction_loss: 305273.8438 - axis_detection_accuracy: 0.2462\n",
      "Feature changed - 0; Score - [6105602.0, 4.5228962898254395, 305273.84375, 0.24621741473674774]\n",
      "1521/1521 [==============================] - 18s 12ms/step - loss: 3930671.5000 - axis_detection_loss: 3.6325 - feed_rate_prediction_loss: 196527.8750 - axis_detection_accuracy: 0.3218\n",
      "Feature changed - 1; Score - [3930671.5, 3.632514476776123, 196527.875, 0.32176631689071655]\n",
      "1521/1521 [==============================] - 18s 12ms/step - loss: 2754810.5000 - axis_detection_loss: 3.2623 - feed_rate_prediction_loss: 137734.4375 - axis_detection_accuracy: 0.4157\n",
      "Feature changed - 2; Score - [2754810.5, 3.262345790863037, 137734.4375, 0.41569361090660095]\n"
     ]
    }
   ],
   "source": [
    "num_features = 3\n",
    "feature_X_dict = {}\n",
    "num_iterations = 10\n",
    "\n",
    "# Run for certain number of iterations\n",
    "for iteration in range(num_iterations):\n",
    "\n",
    "    # Keep track of the features that are to be shuffled\n",
    "    for index, feature_index in enumerate(range(num_features)):\n",
    "        feature_X_dict[feature_index] = copy.deepcopy(X[:, :, feature_index])\n",
    "\n",
    "    # Feature shuffling\n",
    "    mod_feature_X_dict = {}\n",
    "    temp = copy.deepcopy(feature_X_dict)\n",
    "    for index, feature_index in enumerate(range(num_features)):\n",
    "\n",
    "        # Select the feature to shuffle\n",
    "        # Use deep copy else it will shuffle in place\n",
    "        selected_feature = copy.deepcopy(feature_X_dict[feature_index])\n",
    "        # Shuffle the selected feature\n",
    "        np.random.shuffle(selected_feature)\n",
    "\n",
    "        # Put the shuffled item back\n",
    "        temp[feature_index] = selected_feature\n",
    "\n",
    "        # Put the whole data in a dict\n",
    "        mod_feature_X_dict[feature_index] = temp\n",
    "\n",
    "        # Reset the temp\n",
    "        temp = copy.deepcopy(feature_X_dict)\n",
    "\n",
    "\n",
    "    # Compare the data to ensure it is all good\n",
    "    # The original dictionary\n",
    "    sys.stdout.write('Getting a value of 0.0 => arrays are similar\\n')\n",
    "    for feature_index in feature_X_dict.keys():\n",
    "        sys.stdout.write(f\"{feature_index} - {np.sum(X[:, :, feature_index] - feature_X_dict[feature_index])}\\n\")\n",
    "\n",
    "    for feature_index in mod_feature_X_dict.keys():\n",
    "        sys.stdout.write(f\"=={feature_index}==\\n\")\n",
    "        for feature_index2 in mod_feature_X_dict[feature_index].keys():\n",
    "            sys.stdout.write(f\"{feature_index} - {np.sum(X[:, :,feature_index2] - mod_feature_X_dict[feature_index][feature_index2])} || \")\n",
    "        sys.stdout.write(\"\\n\")\n",
    "\n",
    "\n",
    "    # Computing the score\n",
    "    feature_importance[iteration+1] = {}\n",
    "    for feature in range(num_features):\n",
    "\n",
    "        # Select the data dict\n",
    "        mod_X_dict = mod_feature_X_dict[feature]\n",
    "\n",
    "        # Put the data together\n",
    "        for key in sorted(mod_X_dict.keys()):\n",
    "            if key == 0:\n",
    "                mod_X = mod_X_dict[key][:, :, np.newaxis]\n",
    "            else:\n",
    "                mod_X = np.concatenate((mod_X, mod_X_dict[key][:, :, np.newaxis]), axis=2)\n",
    "\n",
    "        # Predict the model\n",
    "        if is_multi_output:\n",
    "            columns = [\"feature\", \"loss\", \"axis_detection_loss\", \"feed_rate_prediction_loss\", \"axis_detection_accuracy\"]\n",
    "            score = model.evaluate(mod_X, {\"axis_detection\": y_axis, \"feed_rate_prediction\": y_fr})\n",
    "        else:\n",
    "            columns = [\"feature\", \"loss\", \"accuracy\"]\n",
    "            score = model.evaluate(mod_X, y)\n",
    "        # Print the results\n",
    "        print(f\"Feature changed - {feature}; Score - {score}\")\n",
    "\n",
    "        feature_importance[iteration+1][feature] = score\n"
   ]
  },
  {
   "cell_type": "code",
   "execution_count": 10,
   "id": "17c53546",
   "metadata": {
    "ExecuteTime": {
     "end_time": "2021-07-30T08:59:13.765089Z",
     "start_time": "2021-07-30T08:59:13.757343Z"
    }
   },
   "outputs": [],
   "source": [
    "# Convert to df to analyze the model's performance\n",
    "feature_importance_list = []\n",
    "for iteration in sorted(feature_importance.keys()):\n",
    "    \n",
    "    for index, (key, value) in enumerate(feature_importance[iteration].items()):\n",
    "        temp1 = [key, value[0], value[1], value[2], value[3]]\n",
    "        feature_importance_list.append(temp1)\n",
    "        \n",
    "feature_importance_df = pd.DataFrame(feature_importance_list, columns=columns)"
   ]
  },
  {
   "cell_type": "code",
   "execution_count": 11,
   "id": "f94bc781",
   "metadata": {
    "ExecuteTime": {
     "end_time": "2021-07-30T08:59:14.483305Z",
     "start_time": "2021-07-30T08:59:14.441731Z"
    }
   },
   "outputs": [],
   "source": [
    "# Describe summary statistics of the df\n",
    "feature_importance_sum_stat = feature_importance_df.groupby(by=\"feature\").describe()"
   ]
  },
  {
   "cell_type": "code",
   "execution_count": 12,
   "id": "b4fbb998",
   "metadata": {
    "ExecuteTime": {
     "end_time": "2021-07-30T08:59:14.982394Z",
     "start_time": "2021-07-30T08:59:14.966127Z"
    }
   },
   "outputs": [
    {
     "data": {
      "text/html": [
       "<div>\n",
       "<style scoped>\n",
       "    .dataframe tbody tr th:only-of-type {\n",
       "        vertical-align: middle;\n",
       "    }\n",
       "\n",
       "    .dataframe tbody tr th {\n",
       "        vertical-align: top;\n",
       "    }\n",
       "\n",
       "    .dataframe thead tr th {\n",
       "        text-align: left;\n",
       "    }\n",
       "\n",
       "    .dataframe thead tr:last-of-type th {\n",
       "        text-align: right;\n",
       "    }\n",
       "</style>\n",
       "<table border=\"1\" class=\"dataframe\">\n",
       "  <thead>\n",
       "    <tr>\n",
       "      <th></th>\n",
       "      <th colspan=\"8\" halign=\"left\">loss</th>\n",
       "      <th colspan=\"2\" halign=\"left\">axis_detection_loss</th>\n",
       "      <th>...</th>\n",
       "      <th colspan=\"2\" halign=\"left\">feed_rate_prediction_loss</th>\n",
       "      <th colspan=\"8\" halign=\"left\">axis_detection_accuracy</th>\n",
       "    </tr>\n",
       "    <tr>\n",
       "      <th></th>\n",
       "      <th>count</th>\n",
       "      <th>mean</th>\n",
       "      <th>std</th>\n",
       "      <th>min</th>\n",
       "      <th>25%</th>\n",
       "      <th>50%</th>\n",
       "      <th>75%</th>\n",
       "      <th>max</th>\n",
       "      <th>count</th>\n",
       "      <th>mean</th>\n",
       "      <th>...</th>\n",
       "      <th>75%</th>\n",
       "      <th>max</th>\n",
       "      <th>count</th>\n",
       "      <th>mean</th>\n",
       "      <th>std</th>\n",
       "      <th>min</th>\n",
       "      <th>25%</th>\n",
       "      <th>50%</th>\n",
       "      <th>75%</th>\n",
       "      <th>max</th>\n",
       "    </tr>\n",
       "    <tr>\n",
       "      <th>feature</th>\n",
       "      <th></th>\n",
       "      <th></th>\n",
       "      <th></th>\n",
       "      <th></th>\n",
       "      <th></th>\n",
       "      <th></th>\n",
       "      <th></th>\n",
       "      <th></th>\n",
       "      <th></th>\n",
       "      <th></th>\n",
       "      <th></th>\n",
       "      <th></th>\n",
       "      <th></th>\n",
       "      <th></th>\n",
       "      <th></th>\n",
       "      <th></th>\n",
       "      <th></th>\n",
       "      <th></th>\n",
       "      <th></th>\n",
       "      <th></th>\n",
       "      <th></th>\n",
       "    </tr>\n",
       "  </thead>\n",
       "  <tbody>\n",
       "    <tr>\n",
       "      <th>0</th>\n",
       "      <td>10.0</td>\n",
       "      <td>6094313.500</td>\n",
       "      <td>21092.594281</td>\n",
       "      <td>6065800.00</td>\n",
       "      <td>6.075226e+06</td>\n",
       "      <td>6095944.00</td>\n",
       "      <td>6.112582e+06</td>\n",
       "      <td>6118240.50</td>\n",
       "      <td>10.0</td>\n",
       "      <td>4.521031</td>\n",
       "      <td>...</td>\n",
       "      <td>305622.820312</td>\n",
       "      <td>305905.781250</td>\n",
       "      <td>10.0</td>\n",
       "      <td>0.247471</td>\n",
       "      <td>0.001575</td>\n",
       "      <td>0.244778</td>\n",
       "      <td>0.246459</td>\n",
       "      <td>0.247584</td>\n",
       "      <td>0.248643</td>\n",
       "      <td>0.249794</td>\n",
       "    </tr>\n",
       "    <tr>\n",
       "      <th>1</th>\n",
       "      <td>10.0</td>\n",
       "      <td>3938852.525</td>\n",
       "      <td>14167.170342</td>\n",
       "      <td>3920518.75</td>\n",
       "      <td>3.930727e+06</td>\n",
       "      <td>3934570.25</td>\n",
       "      <td>3.941748e+06</td>\n",
       "      <td>3963174.50</td>\n",
       "      <td>10.0</td>\n",
       "      <td>3.634077</td>\n",
       "      <td>...</td>\n",
       "      <td>197081.289062</td>\n",
       "      <td>198152.593750</td>\n",
       "      <td>10.0</td>\n",
       "      <td>0.322389</td>\n",
       "      <td>0.001810</td>\n",
       "      <td>0.319155</td>\n",
       "      <td>0.321499</td>\n",
       "      <td>0.322003</td>\n",
       "      <td>0.323519</td>\n",
       "      <td>0.325693</td>\n",
       "    </tr>\n",
       "    <tr>\n",
       "      <th>2</th>\n",
       "      <td>10.0</td>\n",
       "      <td>2766209.525</td>\n",
       "      <td>30832.399343</td>\n",
       "      <td>2705059.75</td>\n",
       "      <td>2.744777e+06</td>\n",
       "      <td>2773909.00</td>\n",
       "      <td>2.791067e+06</td>\n",
       "      <td>2802940.25</td>\n",
       "      <td>10.0</td>\n",
       "      <td>3.246368</td>\n",
       "      <td>...</td>\n",
       "      <td>139547.226562</td>\n",
       "      <td>140140.859375</td>\n",
       "      <td>10.0</td>\n",
       "      <td>0.417178</td>\n",
       "      <td>0.001040</td>\n",
       "      <td>0.415611</td>\n",
       "      <td>0.416598</td>\n",
       "      <td>0.417400</td>\n",
       "      <td>0.417580</td>\n",
       "      <td>0.418962</td>\n",
       "    </tr>\n",
       "  </tbody>\n",
       "</table>\n",
       "<p>3 rows × 32 columns</p>\n",
       "</div>"
      ],
      "text/plain": [
       "         loss                                                       \\\n",
       "        count         mean           std         min           25%   \n",
       "feature                                                              \n",
       "0        10.0  6094313.500  21092.594281  6065800.00  6.075226e+06   \n",
       "1        10.0  3938852.525  14167.170342  3920518.75  3.930727e+06   \n",
       "2        10.0  2766209.525  30832.399343  2705059.75  2.744777e+06   \n",
       "\n",
       "                                              axis_detection_loss            \\\n",
       "                50%           75%         max               count      mean   \n",
       "feature                                                                       \n",
       "0        6095944.00  6.112582e+06  6118240.50                10.0  4.521031   \n",
       "1        3934570.25  3.941748e+06  3963174.50                10.0  3.634077   \n",
       "2        2773909.00  2.791067e+06  2802940.25                10.0  3.246368   \n",
       "\n",
       "         ... feed_rate_prediction_loss                axis_detection_accuracy  \\\n",
       "         ...                       75%            max                   count   \n",
       "feature  ...                                                                    \n",
       "0        ...             305622.820312  305905.781250                    10.0   \n",
       "1        ...             197081.289062  198152.593750                    10.0   \n",
       "2        ...             139547.226562  140140.859375                    10.0   \n",
       "\n",
       "                                                                               \n",
       "             mean       std       min       25%       50%       75%       max  \n",
       "feature                                                                        \n",
       "0        0.247471  0.001575  0.244778  0.246459  0.247584  0.248643  0.249794  \n",
       "1        0.322389  0.001810  0.319155  0.321499  0.322003  0.323519  0.325693  \n",
       "2        0.417178  0.001040  0.415611  0.416598  0.417400  0.417580  0.418962  \n",
       "\n",
       "[3 rows x 32 columns]"
      ]
     },
     "execution_count": 12,
     "metadata": {},
     "output_type": "execute_result"
    }
   ],
   "source": [
    "# Stats\n",
    "feature_importance_sum_stat"
   ]
  },
  {
   "cell_type": "code",
   "execution_count": 13,
   "id": "71e1995a",
   "metadata": {
    "ExecuteTime": {
     "end_time": "2021-07-30T08:59:19.352829Z",
     "start_time": "2021-07-30T08:59:19.334141Z"
    }
   },
   "outputs": [
    {
     "data": {
      "text/html": [
       "<div>\n",
       "<style scoped>\n",
       "    .dataframe tbody tr th:only-of-type {\n",
       "        vertical-align: middle;\n",
       "    }\n",
       "\n",
       "    .dataframe tbody tr th {\n",
       "        vertical-align: top;\n",
       "    }\n",
       "\n",
       "    .dataframe thead th {\n",
       "        text-align: right;\n",
       "    }\n",
       "</style>\n",
       "<table border=\"1\" class=\"dataframe\">\n",
       "  <thead>\n",
       "    <tr style=\"text-align: right;\">\n",
       "      <th></th>\n",
       "      <th>count</th>\n",
       "      <th>mean</th>\n",
       "      <th>std</th>\n",
       "      <th>min</th>\n",
       "      <th>25%</th>\n",
       "      <th>50%</th>\n",
       "      <th>75%</th>\n",
       "      <th>max</th>\n",
       "    </tr>\n",
       "    <tr>\n",
       "      <th>feature</th>\n",
       "      <th></th>\n",
       "      <th></th>\n",
       "      <th></th>\n",
       "      <th></th>\n",
       "      <th></th>\n",
       "      <th></th>\n",
       "      <th></th>\n",
       "      <th></th>\n",
       "    </tr>\n",
       "  </thead>\n",
       "  <tbody>\n",
       "    <tr>\n",
       "      <th>0</th>\n",
       "      <td>10.0</td>\n",
       "      <td>304709.415625</td>\n",
       "      <td>1054.608345</td>\n",
       "      <td>303283.40625</td>\n",
       "      <td>303755.414062</td>\n",
       "      <td>304790.953125</td>\n",
       "      <td>305622.820312</td>\n",
       "      <td>305905.781250</td>\n",
       "    </tr>\n",
       "    <tr>\n",
       "      <th>1</th>\n",
       "      <td>10.0</td>\n",
       "      <td>196936.562500</td>\n",
       "      <td>708.254734</td>\n",
       "      <td>196020.06250</td>\n",
       "      <td>196530.574219</td>\n",
       "      <td>196722.390625</td>\n",
       "      <td>197081.289062</td>\n",
       "      <td>198152.593750</td>\n",
       "    </tr>\n",
       "    <tr>\n",
       "      <th>2</th>\n",
       "      <td>10.0</td>\n",
       "      <td>138304.414062</td>\n",
       "      <td>1541.569769</td>\n",
       "      <td>135247.06250</td>\n",
       "      <td>137232.816406</td>\n",
       "      <td>138689.437500</td>\n",
       "      <td>139547.226562</td>\n",
       "      <td>140140.859375</td>\n",
       "    </tr>\n",
       "  </tbody>\n",
       "</table>\n",
       "</div>"
      ],
      "text/plain": [
       "         count           mean          std           min            25%  \\\n",
       "feature                                                                   \n",
       "0         10.0  304709.415625  1054.608345  303283.40625  303755.414062   \n",
       "1         10.0  196936.562500   708.254734  196020.06250  196530.574219   \n",
       "2         10.0  138304.414062  1541.569769  135247.06250  137232.816406   \n",
       "\n",
       "                   50%            75%            max  \n",
       "feature                                               \n",
       "0        304790.953125  305622.820312  305905.781250  \n",
       "1        196722.390625  197081.289062  198152.593750  \n",
       "2        138689.437500  139547.226562  140140.859375  "
      ]
     },
     "execution_count": 13,
     "metadata": {},
     "output_type": "execute_result"
    }
   ],
   "source": [
    "# Only for feedrate prediction\n",
    "feature_importance_sum_stat[\"feed_rate_prediction_loss\"]"
   ]
  },
  {
   "cell_type": "code",
   "execution_count": 32,
   "id": "570f3006",
   "metadata": {
    "ExecuteTime": {
     "end_time": "2021-07-30T08:59:22.619531Z",
     "start_time": "2021-07-30T08:59:22.515698Z"
    }
   },
   "outputs": [
    {
     "data": {
      "image/png": "[encoded data removed]",
      "text/plain": [
       "<Figure size 500x500 with 1 Axes>"
      ]
     },
     "metadata": {},
     "output_type": "display_data"
    }
   ],
   "source": [
    "# Set the font properties\n",
    "matplotlib.rcdefaults()\n",
    "font = {'size'   : 10.0}\n",
    "matplotlib.rc('font', **font)\n",
    "\n",
    "labels = [\"Power-Active\", \"Power-Apparent\", 'Power-Reactive']\n",
    "x = np.arange(3) # Label locations\n",
    "width = 0.35\n",
    "\n",
    "fig, ax = plt.subplots(figsize=(5, 5))\n",
    "\n",
    "# Bar chart\n",
    "rects1 = ax.bar(x - width/2, np.log(feature_importance_sum_stat[\"axis_detection_loss\"][\"mean\"]), width=0.35, label=\"Axis detection loss\")\n",
    "rects2 = ax.bar(x + width/2, np.log(feature_importance_sum_stat[\"feed_rate_prediction_loss\"][\"mean\"]), width=0.35, label=\"Feed rate prediction loss\")\n",
    "ax.set_xlabel(\"Features\")\n",
    "ax.set_ylabel(\"Sparse Categorical Cross-Entropy Loss\")\n",
    "ax.set_title(\"Feature Importance - FR Prediction\")\n",
    "ax.set_xticks(x)\n",
    "ax.set_xticklabels(labels)\n",
    "ax.legend()\n",
    "\n",
    "fig.tight_layout()\n",
    "fig.savefig(\"feature_imp.png\", bbox_inches=\"tight\")"
   ]
  },
  {
   "cell_type": "code",
   "execution_count": null,
   "id": "067d3c88",
   "metadata": {},
   "outputs": [],
   "source": []
  }
 ],
 "metadata": {
  "kernelspec": {
   "display_name": "Python 3",
   "language": "python",
   "name": "python3"
  },
  "language_info": {
   "codemirror_mode": {
    "name": "ipython",
    "version": 3
   },
   "file_extension": ".py",
   "mimetype": "text/x-python",
   "name": "python",
   "nbconvert_exporter": "python",
   "pygments_lexer": "ipython3",
   "version": "3.8.8"
  },
  "toc": {
   "base_numbering": 1,
   "nav_menu": {},
   "number_sections": true,
   "sideBar": true,
   "skip_h1_title": false,
   "title_cell": "Table of Contents",
   "title_sidebar": "Contents",
   "toc_cell": false,
   "toc_position": {},
   "toc_section_display": true,
   "toc_window_display": true
  },
  "varInspector": {
   "cols": {
    "lenName": 16,
    "lenType": 16,
    "lenVar": 40
   },
   "kernels_config": {
    "python": {
     "delete_cmd_postfix": "",
     "delete_cmd_prefix": "del ",
     "library": "var_list.py",
     "varRefreshCmd": "print(var_dic_list())"
    },
    "r": {
     "delete_cmd_postfix": ") ",
     "delete_cmd_prefix": "rm(",
     "library": "var_list.r",
     "varRefreshCmd": "cat(var_dic_list()) "
    }
   },
   "types_to_exclude": [
    "module",
    "function",
    "builtin_function_or_method",
    "instance",
    "_Feature"
   ],
   "window_display": false
  }
 },
 "nbformat": 4,
 "nbformat_minor": 5
}
